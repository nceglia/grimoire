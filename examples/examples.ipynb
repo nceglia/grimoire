{
 "cells": [
  {
   "cell_type": "code",
   "execution_count": 1,
   "metadata": {},
   "outputs": [
    {
     "name": "stderr",
     "output_type": "stream",
     "text": [
      "/Users/ceglian/Codebase/grimoire/.venv/lib/python3.9/site-packages/urllib3/__init__.py:34: NotOpenSSLWarning: urllib3 v2.0 only supports OpenSSL 1.1.1+, currently the 'ssl' module is compiled with 'LibreSSL 2.8.3'. See: https://github.com/urllib3/urllib3/issues/3020\n",
      "  warnings.warn(\n"
     ]
    }
   ],
   "source": [
    "import scanpy as sc\n",
    "import grimoire as magic\n",
    "import tcri"
   ]
  },
  {
   "cell_type": "code",
   "execution_count": 9,
   "metadata": {},
   "outputs": [
    {
     "data": {
      "text/plain": [
       "AnnData object with n_obs × n_vars = 51493 × 2000\n",
       "    obs: 'cell.id', 'patient', 'treatment', 'cluster', 'UMAP1', 'UMAP2', 'trb', 'trb2', 'disease', 'response'\n",
       "    var: 'highly_variable', 'highly_variable_rank', 'means', 'variances', 'variances_norm'\n",
       "    uns: 'cluster_colors', 'hvg'\n",
       "    obsm: 'X_umap'\n",
       "    layers: 'counts'"
      ]
     },
     "execution_count": 9,
     "metadata": {},
     "output_type": "execute_result"
    }
   ],
   "source": [
    "adata = sc.read(\"/Users/ceglian/Analysis/yost/yost_v2.h5ad\")\n",
    "adata"
   ]
  },
  {
   "cell_type": "code",
   "execution_count": 7,
   "metadata": {},
   "outputs": [],
   "source": [
    "adata = sc.read(\"/Users/ceglian/Analysis/yost/yost_v2.h5ad\")\n",
    "ct = []\n",
    "for x in adata.obs[\"response\"]:\n",
    "    if \"yes\" in x.lower():\n",
    "        ct.append(\"R\")\n",
    "    else:\n",
    "        ct.append(\"NR\")\n",
    "adata.obs[\"response\"] = ct\n",
    "\n",
    "adata = adata[adata.obs[\"disease\"] == \"scc\"]"
   ]
  },
  {
   "cell_type": "code",
   "execution_count": 8,
   "metadata": {},
   "outputs": [
    {
     "name": "stdout",
     "output_type": "stream",
     "text": [
      "View of AnnData object with n_obs × n_vars = 66353 × 19317\n",
      "    obs: 'genevector', 'CD4 Treg Pseudo-probability', 'CD4 Naive Pseudo-probability', 'CD4 Central Memory Pseudo-probability', 'CD4 Effector Memory Pseudo-probability', 'CD4 ISG Pseudo-probability', 'CD4 SESN3+ Pseudo-probability', 'rna:IR_VDJ_1_junction', 'rna:IR_VDJ_1_junction_aa', 'disease_status', 'patient', 'timepoint', 'timepoint_adj'\n",
      "    var: 'gene_ids', 'feature_types', 'genome'\n",
      "    uns: 'cell_type_colors'\n",
      "    obsm: 'X_umap'\n"
     ]
    }
   ],
   "source": [
    "def remove_meaningless_genes(adata):\n",
    "    genes = [x for x in adata.var.index.tolist() if \"RIK\" not in x.upper()]\n",
    "    genes = [x for x in genes if \"GM\" not in x]\n",
    "    genes = [x for x in genes if \"-\" not in x or \"HLA\" in x]\n",
    "    genes = [x for x in genes if \".\" not in x or \"HLA\" in x]\n",
    "    genes = [x for x in genes if \"LINC\" not in x.upper()]\n",
    "    adata = adata[:,genes]\n",
    "\n",
    "remove_meaningless_genes(adata)"
   ]
  },
  {
   "cell_type": "code",
   "execution_count": 7,
   "metadata": {},
   "outputs": [
    {
     "data": {
      "text/plain": [
       "AnnData object with n_obs × n_vars = 66353 × 19317\n",
       "    obs: 'genevector', 'CD4 Treg Pseudo-probability', 'CD4 Naive Pseudo-probability', 'CD4 Central Memory Pseudo-probability', 'CD4 Effector Memory Pseudo-probability', 'CD4 ISG Pseudo-probability', 'CD4 SESN3+ Pseudo-probability', 'rna:IR_VDJ_1_junction', 'rna:IR_VDJ_1_junction_aa', 'disease_status', 'patient', 'timepoint', 'timepoint_adj'\n",
       "    var: 'gene_ids', 'feature_types', 'genome'\n",
       "    uns: 'cell_type_colors'\n",
       "    obsm: 'X_umap'"
      ]
     },
     "execution_count": 7,
     "metadata": {},
     "output_type": "execute_result"
    }
   ],
   "source": [
    "adata"
   ]
  }
 ],
 "metadata": {
  "kernelspec": {
   "display_name": ".venv",
   "language": "python",
   "name": "python3"
  },
  "language_info": {
   "codemirror_mode": {
    "name": "ipython",
    "version": 3
   },
   "file_extension": ".py",
   "mimetype": "text/x-python",
   "name": "python",
   "nbconvert_exporter": "python",
   "pygments_lexer": "ipython3",
   "version": "3.9.6"
  }
 },
 "nbformat": 4,
 "nbformat_minor": 2
}
